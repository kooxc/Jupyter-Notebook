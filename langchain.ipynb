{
  "nbformat": 4,
  "nbformat_minor": 0,
  "metadata": {
    "colab": {
      "provenance": [],
      "authorship_tag": "ABX9TyNTibia4PwBs7ikGcjYqmsF",
      "include_colab_link": true
    },
    "kernelspec": {
      "name": "python3",
      "display_name": "Python 3"
    },
    "language_info": {
      "name": "python"
    }
  },
  "cells": [
    {
      "cell_type": "markdown",
      "metadata": {
        "id": "view-in-github",
        "colab_type": "text"
      },
      "source": [
        "<a href=\"https://colab.research.google.com/github/kooxc/Jupyter-Notebook/blob/main/langchain.ipynb\" target=\"_parent\"><img src=\"https://colab.research.google.com/assets/colab-badge.svg\" alt=\"Open In Colab\"/></a>"
      ]
    },
    {
      "cell_type": "markdown",
      "source": [
        "### 一、安装"
      ],
      "metadata": {
        "id": "1nUvpK8nGb-D"
      }
    },
    {
      "cell_type": "code",
      "source": [
        "# 查看当前kernel下已安装的包  list packages\n",
        "!pip list --format=columns"
      ],
      "metadata": {
        "collapsed": true,
        "id": "5v2D_OpEGlBZ"
      },
      "execution_count": null,
      "outputs": []
    },
    {
      "cell_type": "code",
      "source": [
        "# 安装 langchain 包\n",
        "!pip install langchain\n",
        "!pip install langchain-core\n",
        "!pip install langchain-community\n",
        "!pip install langchain-openai\n"
      ],
      "metadata": {
        "collapsed": true,
        "id": "VbFnfYFwGpOP"
      },
      "execution_count": null,
      "outputs": []
    },
    {
      "cell_type": "code",
      "source": [
        "# 安装阿里通义千问的包\n",
        "!pip install dashscope"
      ],
      "metadata": {
        "collapsed": true,
        "id": "G2as_uL1GqGg"
      },
      "execution_count": null,
      "outputs": []
    },
    {
      "cell_type": "markdown",
      "source": [
        "### 二、基本调用示例"
      ],
      "metadata": {
        "id": "kwooEjRBIW04"
      }
    },
    {
      "cell_type": "code",
      "source": [
        "import os\n",
        "from langchain_community.llms import Tongyi\n",
        "from google.colab import userdata\n",
        "\n",
        "os.environ[\"DASHSCOPE_API_KEY\"] = userdata.get('QWEN_KEY')\n",
        "\n",
        "llm = Tongyi()\n",
        "llm.invoke(\"明源云是做什么业务的? 企业的CEO是谁?\")"
      ],
      "metadata": {
        "colab": {
          "base_uri": "https://localhost:8080/",
          "height": 107
        },
        "id": "Kuw-J2CwIfXF",
        "outputId": "eb6cea7a-7fc3-42b5-d3ac-319b439a3d25",
        "collapsed": true
      },
      "execution_count": 5,
      "outputs": [
        {
          "output_type": "execute_result",
          "data": {
            "text/plain": [
              "'明源云（MingYuan Cloud）是一家中国领先的房地产生态链数字化服务商，专注于为房地产开发商及产业链其他参与者提供企业级ERP产品和SaaS服务。其业务主要涵盖以下几个方面：\\n\\n1. **房地产开发领域的数字化解决方案**：提供覆盖房地产全生命周期的管理软件和服务，包括项目管理、成本管理、采购管理、营销管理等。\\n2. **SaaS服务平台**：通过云端服务帮助房企实现线上化、智能化运营，提升效率。\\n3. **大数据与人工智能应用**：利用大数据分析和AI技术助力房地产企业进行精准决策。\\n\\n关于企业CEO的信息，明源云的创始人兼董事长是高宇，而当前负责公司日常运营管理的首席执行官（CEO）是姜海洋。姜海洋在科技行业有着丰富的经验，并带领团队不断推动明源云的技术创新与发展。\\n\\n请注意，具体高管职位可能会随时间有所调整，建议查阅最新的官方公告以获取最准确的信息。'"
            ],
            "application/vnd.google.colaboratory.intrinsic+json": {
              "type": "string"
            }
          },
          "metadata": {},
          "execution_count": 5
        }
      ]
    },
    {
      "cell_type": "markdown",
      "source": [
        "### 三、聊天模型"
      ],
      "metadata": {
        "id": "guFf6YLELCCH"
      }
    },
    {
      "cell_type": "markdown",
      "source": [
        "#### 1、格式化输出"
      ],
      "metadata": {
        "id": "gtuOt4BwL3Wh"
      }
    },
    {
      "cell_type": "code",
      "source": [
        "from langchain_community.chat_models.tongyi import ChatTongyi\n",
        "from typing import Optional\n",
        "from pydantic import BaseModel, Field\n",
        "\n",
        "# 定义Pydantic模型\n",
        "class Company(BaseModel):\n",
        "    \"\"\"公司简介信息\"\"\"\n",
        "\n",
        "    domain: str = Field(description=\"官方域名地址\")\n",
        "    business: str = Field(description=\"主营业务\")\n",
        "    boss: str = Field(description=\"老板\")\n",
        "    income: str = Field(description=\"最近市场披露的收入\")\n",
        "\n",
        "\n",
        "llm = ChatTongyi(model=\"qwen-turbo\")\n",
        "structured_llm = llm.with_structured_output(Company)\n",
        "structured_llm.invoke(\"介绍一下明源云这家公司\")"
      ],
      "metadata": {
        "colab": {
          "base_uri": "https://localhost:8080/"
        },
        "id": "584baDrkLIuT",
        "outputId": "6c0871da-4e64-4085-9f37-6c7748e14209"
      },
      "execution_count": 6,
      "outputs": [
        {
          "output_type": "execute_result",
          "data": {
            "text/plain": [
              "Company(domain='www.mingyuanyun.com', business='房地产行业数字化转型解决方案提供商', boss='高宇', income='2022年收入超过10亿元')"
            ]
          },
          "metadata": {},
          "execution_count": 6
        }
      ]
    },
    {
      "cell_type": "markdown",
      "source": [
        "#### 2、工具模式"
      ],
      "metadata": {
        "id": "Wy7yUqsxLrEN"
      }
    },
    {
      "cell_type": "code",
      "source": [
        "# 函数名、类型和文档注释都是该工具的一部分\n",
        "# 传递给模型的模式，定义良好的描述性模式，是提示工程的扩展，是使模型性能良好的重要组成部分\n",
        "def add(a: int, b: int) -> int:\n",
        "    \"\"\"Add two integers.\n",
        "\n",
        "    Args:\n",
        "        a: First integer\n",
        "        b: Second integer\n",
        "    \"\"\"\n",
        "    return a + b\n",
        "\n",
        "\n",
        "def multiply(a: int, b: int) -> int:\n",
        "    \"\"\"Multiply two integers.\n",
        "\n",
        "    Args:\n",
        "        a: First integer\n",
        "        b: Second integer\n",
        "    \"\"\"\n",
        "    return a * b\n",
        "\n",
        "tools = [add, multiply]"
      ],
      "metadata": {
        "id": "c-wxHx9wLxQ9"
      },
      "execution_count": 7,
      "outputs": []
    },
    {
      "cell_type": "code",
      "source": [
        "llm = ChatTongyi(model=\"qwen-turbo\")\n",
        "\n",
        "llm_with_tools = llm.bind_tools(tools)\n",
        "\n",
        "query = \"3 * 12 = ？\"\n",
        "\n",
        "llm_with_tools.invoke(query)"
      ],
      "metadata": {
        "colab": {
          "base_uri": "https://localhost:8080/"
        },
        "id": "h1Ad8GEaMpCy",
        "outputId": "a1b463b9-c1e6-4af3-f01d-faa4a1c95976"
      },
      "execution_count": 8,
      "outputs": [
        {
          "output_type": "execute_result",
          "data": {
            "text/plain": [
              "AIMessage(content='', additional_kwargs={'tool_calls': [{'function': {'name': 'multiply', 'arguments': '{\"a\": 3, \"b\": 12}'}, 'index': 0, 'id': 'call_cb1da37be324418da22843', 'type': 'function'}]}, response_metadata={'model_name': 'qwen-turbo', 'finish_reason': 'tool_calls', 'request_id': 'e9d40412-99f3-9dc1-8b5c-5c82d671c509', 'token_usage': {'input_tokens': 263, 'output_tokens': 23, 'total_tokens': 286}}, id='run-8bb13ced-f797-42e8-803a-c1fb9566bedc-0', tool_calls=[{'name': 'multiply', 'args': {'a': 3, 'b': 12}, 'id': 'call_cb1da37be324418da22843', 'type': 'tool_call'}])"
            ]
          },
          "metadata": {},
          "execution_count": 8
        }
      ]
    },
    {
      "cell_type": "markdown",
      "source": [
        "#### 3、缓存\n",
        "在 LangChain 中，set_llm_cache 是一个用于设置缓存机制的函数。它的主要作用是通过缓存来减少对语言模型（LLM）的重复调用，从而节省时间和计算资源。以下是它的具体作用和使用场景：\n",
        "\n",
        "**缓存的作用**\n",
        "\n",
        "减少重复调用：如果相同的输入多次发送到 LLM，缓存可以存储之前的结果，避免重复调用模型，从而提高效率。\n",
        "节省成本和时间：LLM 的调用通常需要消耗计算资源和时间，缓存可以显著减少这些开销。\n",
        "提高性能：通过缓存，程序可以更快地获取结果，尤其是在需要频繁调用 LLM 的场景中。\n",
        "\n",
        "**如何使用 set_llm_cache**\n",
        "\n",
        "set_llm_cache 是 LangChain 提供的一个全局设置函数，用于启用缓存机制。它通常与 LangChain 的缓存实现（如 InMemoryCache 或 SQLiteCache）一起使用。"
      ],
      "metadata": {
        "id": "4LwkZxt_M-jo"
      }
    },
    {
      "cell_type": "code",
      "source": [
        "%%time\n",
        "from langchain_core.caches import InMemoryCache\n",
        "from langchain_core.globals import set_llm_cache\n",
        "\n",
        "llm = ChatTongyi(model=\"qwen-turbo\")\n",
        "\n",
        "set_llm_cache(InMemoryCache())\n",
        "llm.invoke(\"50个字以内介绍一下明源云这家公司\")"
      ],
      "metadata": {
        "colab": {
          "base_uri": "https://localhost:8080/"
        },
        "id": "ryTdQo0JNA8z",
        "outputId": "c82f4a9e-3b82-46fc-ebca-d29b31b74dfe"
      },
      "execution_count": 9,
      "outputs": [
        {
          "output_type": "stream",
          "name": "stdout",
          "text": [
            "CPU times: user 17.7 ms, sys: 1.07 ms, total: 18.8 ms\n",
            "Wall time: 1.48 s\n"
          ]
        },
        {
          "output_type": "execute_result",
          "data": {
            "text/plain": [
              "AIMessage(content='明源云是中国领先的房地产数字化解决方案提供商，专注于为房地产开发商及产业链相关企业提供软件云服务。', additional_kwargs={}, response_metadata={'model_name': 'qwen-turbo', 'finish_reason': 'stop', 'request_id': 'e0a71343-e7ec-9e41-82a6-bf539e13afe7', 'token_usage': {'input_tokens': 18, 'output_tokens': 22, 'total_tokens': 40}}, id='run-dfd684f4-3c77-4eaf-b49f-3fee75bfd7af-0')"
            ]
          },
          "metadata": {},
          "execution_count": 9
        }
      ]
    },
    {
      "cell_type": "code",
      "source": [
        "%%time\n",
        "#再次调用\n",
        "\n",
        "llm.invoke(\"50个字以内介绍一下明源云这家公司\")"
      ],
      "metadata": {
        "colab": {
          "base_uri": "https://localhost:8080/"
        },
        "id": "_ovE6-V_NLqO",
        "outputId": "6db73e51-1f3d-4c4a-f179-4ced9969542e"
      },
      "execution_count": 10,
      "outputs": [
        {
          "output_type": "stream",
          "name": "stdout",
          "text": [
            "CPU times: user 570 µs, sys: 0 ns, total: 570 µs\n",
            "Wall time: 561 µs\n"
          ]
        },
        {
          "output_type": "execute_result",
          "data": {
            "text/plain": [
              "AIMessage(content='明源云是中国领先的房地产数字化解决方案提供商，专注于为房地产开发商及产业链相关企业提供软件云服务。', additional_kwargs={}, response_metadata={'model_name': 'qwen-turbo', 'finish_reason': 'stop', 'request_id': 'e0a71343-e7ec-9e41-82a6-bf539e13afe7', 'token_usage': {'input_tokens': 18, 'output_tokens': 22, 'total_tokens': 40}}, id='run-dfd684f4-3c77-4eaf-b49f-3fee75bfd7af-0')"
            ]
          },
          "metadata": {},
          "execution_count": 10
        }
      ]
    }
  ]
}